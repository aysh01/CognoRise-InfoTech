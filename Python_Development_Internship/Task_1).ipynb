{
  "nbformat": 4,
  "nbformat_minor": 0,
  "metadata": {
    "colab": {
      "provenance": []
    },
    "kernelspec": {
      "name": "python3",
      "display_name": "Python 3"
    },
    "language_info": {
      "name": "python"
    }
  },
  "cells": [
    {
      "cell_type": "code",
      "source": [
        "import random as rd\n",
        "letter=\"abcdefghijklmnopqrstuvwxyz\"\n",
        "number=\"0123456789\"\n",
        "complex_characters=\"#@$&%-_\"\n",
        "\n",
        "x=[]\n",
        "def generate_password():\n",
        "    def user_input():\n",
        "        a=int(input(\"Enter the Password Length:\\n\"))\n",
        "\n",
        "        for i in range(0,a):\n",
        "            r=rd.randint(0,len(letter)-1)\n",
        "            x.append(letter[r])\n",
        "\n",
        "        for j in range(0,3):\n",
        "            x1=rd.randint(0,len(number)-1)\n",
        "            x.append(number[x1])\n",
        "        print(x)\n",
        "\n",
        "    user_input()\n",
        "\n",
        "def generate_complex_password():\n",
        "    for i in x:\n",
        "        #print(f\"{i},{x.index(i)}\")\n",
        "        index1=rd.randint(0,len(x)-1)\n",
        "        if x.index(i)<= index1:\n",
        "            #print(f\"{i},{index1}\")\n",
        "            x.remove(i)\n",
        "            x.insert(index1,i)\n",
        "        break\n",
        "\n",
        "    for i in complex_characters:\n",
        "        r=rd.randint(0,1)\n",
        "        x.append(complex_characters[r])\n",
        "        break\n",
        "    print(\"Your Strong Password\\n\",x)\n",
        "\n",
        "generate_password()\n",
        "complex=str(input(\"Do you want to make it more Complex ? Y/N\\n\"))\n",
        "for i in range(0,3):\n",
        "    if isinstance(complex,str) and complex.lower() == \"y\":\n",
        "        generate_complex_password()\n",
        "        #print(\"Y\")\n",
        "    elif isinstance(complex,str) and complex.lower() == \"n\":\n",
        "        #print(\"N\")\n",
        "        print(\"Your Generated Password\\n\",x)\n",
        "    else:\n",
        "        print(\"Incorrect Input..\\nTRY AGAIN\")\n",
        "        complex=str(input(\"Do you want to make it more Complex ?\\nY/N\\n\"))\n",
        "        continue\n",
        "    break"
      ],
      "metadata": {
        "colab": {
          "base_uri": "https://localhost:8080/"
        },
        "id": "ZV6enxdzakKw",
        "outputId": "156e0a9d-70bd-4052-8840-0cfaa2fb9e8a"
      },
      "execution_count": null,
      "outputs": [
        {
          "output_type": "stream",
          "name": "stdout",
          "text": [
            "Enter the Password Length:\n",
            "4\n",
            "['y', 'l', 'm', 'l', '0', '1', '6']\n",
            "Do you want to make it more Complex ? Y/N\n",
            "Y\n",
            "Your Strong Password\n",
            " ['l', 'm', 'l', '0', '1', '6', 'y', '@']\n"
          ]
        }
      ]
    }
  ]
}